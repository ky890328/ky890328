{
 "cells": [
  {
   "cell_type": "code",
   "execution_count": 30,
   "metadata": {
    "scrolled": true
   },
   "outputs": [
    {
     "name": "stdout",
     "output_type": "stream",
     "text": [
      "月份：7\n",
      "1 2\n",
      "2 3\n",
      "3 5\n",
      "5 8\n",
      "8 13\n",
      "13 21\n",
      "7有13隻雞 \n"
     ]
    }
   ],
   "source": [
    "# 費波那切數列`,每個月的雞都會以費波納切數列的數量增加\n",
    "def f(n):\n",
    "    a=1\n",
    "    b=1\n",
    "    for i in range(n-1):\n",
    "        a,b=b,a+b\n",
    "        print(a,b)\n",
    "#         b=a+b\n",
    "    return a\n",
    " \n",
    "n=int(input(\"月份：\"))\n",
    "print(\"{}有{}隻雞 \".format(n,f(n)))\n"
   ]
  },
  {
   "cell_type": "markdown",
   "metadata": {},
   "source": [
    "---"
   ]
  },
  {
   "cell_type": "code",
   "execution_count": 32,
   "metadata": {},
   "outputs": [
    {
     "name": "stdout",
     "output_type": "stream",
     "text": [
      "月份：7\n",
      "1 2\n",
      "2 4\n",
      "4 8\n",
      "8 16\n",
      "16 32\n",
      "32 64\n",
      "7有32隻雞 \n"
     ]
    }
   ],
   "source": [
    "# 費波那切數列\n",
    "def f(n):\n",
    "    a=1\n",
    "    b=1\n",
    "    for i in range(n-1):\n",
    "        a=b\n",
    "#         print(a,b)\n",
    "        b=a+b\n",
    "        print(a,b)\n",
    "    return a\n",
    "\n",
    "n=int(input(\"月份：\"))\n",
    "print(\"{}有{}隻雞 \".format(n,f(n)))\n"
   ]
  },
  {
   "cell_type": "markdown",
   "metadata": {},
   "source": [
    "#### 錯的，因為b已經賦值給a"
   ]
  },
  {
   "cell_type": "code",
   "execution_count": null,
   "metadata": {},
   "outputs": [],
   "source": []
  }
 ],
 "metadata": {
  "kernelspec": {
   "display_name": "Python 3",
   "language": "python",
   "name": "python3"
  },
  "language_info": {
   "codemirror_mode": {
    "name": "ipython",
    "version": 3
   },
   "file_extension": ".py",
   "mimetype": "text/x-python",
   "name": "python",
   "nbconvert_exporter": "python",
   "pygments_lexer": "ipython3",
   "version": "3.7.4"
  }
 },
 "nbformat": 4,
 "nbformat_minor": 2
}
