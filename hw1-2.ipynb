{
 "cells": [
  {
   "cell_type": "code",
   "execution_count": 29,
   "metadata": {},
   "outputs": [],
   "source": [
    "#爬匯率"
   ]
  },
  {
   "cell_type": "code",
   "execution_count": 3,
   "metadata": {},
   "outputs": [],
   "source": [
    "import requests\n",
    "from pyquery import PyQuery as pq"
   ]
  },
  {
   "cell_type": "code",
   "execution_count": 6,
   "metadata": {},
   "outputs": [],
   "source": [
    "res=requests.get(\"https://rate.bot.com.tw/xrt?Lang=zh-TW\")\n",
    "doc=pq(res.text)   "
   ]
  },
  {
   "cell_type": "code",
   "execution_count": 26,
   "metadata": {},
   "outputs": [],
   "source": [
    "list=[]\n",
    "for eachdoc in doc('#ie11andabove > div > table > tbody > tr ').items():\n",
    "        dict={}\n",
    "        dict[\"幣別：\"]=eachdoc('td.currency.phone-small-font>div > div.hidden-phone.print_show').text()\n",
    "        dict[\"本行買入：\"]=eachdoc('td:nth-child(2)').text()\n",
    "        dict[\"本行賣出：\"]=eachdoc('td:nth-child(3)').text()\n",
    "#         net=eachdoc('td:nth-child(6)').text()\n",
    "#         net=net.replace(',','')\n",
    "#         net=float(net)/1000\n",
    "#         net=str(round(net))\n",
    "#         dict[\"淨買賣\"]=net+'張'\n",
    "        list.append(dict)"
   ]
  },
  {
   "cell_type": "code",
   "execution_count": 27,
   "metadata": {},
   "outputs": [
    {
     "name": "stdout",
     "output_type": "stream",
     "text": [
      "[{'幣別：': '美金 (USD)', '本行買入：': '29.38', '本行賣出：': '30.05'}, {'幣別：': '港幣 (HKD)', '本行買入：': '3.686', '本行賣出：': '3.89'}, {'幣別：': '英鎊 (GBP)', '本行買入：': '36.57', '本行賣出：': '38.69'}, {'幣別：': '澳幣 (AUD)', '本行買入：': '20.42', '本行賣出：': '21.2'}, {'幣別：': '加拿大幣 (CAD)', '本行買入：': '21.7', '本行賣出：': '22.61'}, {'幣別：': '新加坡幣 (SGD)', '本行買入：': '20.81', '本行賣出：': '21.72'}, {'幣別：': '瑞士法郎 (CHF)', '本行買入：': '30.12', '本行賣出：': '31.32'}, {'幣別：': '日圓 (JPY)', '本行買入：': '0.2627', '本行賣出：': '0.2755'}, {'幣別：': '南非幣 (ZAR)', '本行買入：': '-', '本行賣出：': '-'}, {'幣別：': '瑞典幣 (SEK)', '本行買入：': '2.85', '本行賣出：': '3.37'}, {'幣別：': '紐元 (NZD)', '本行買入：': '18.94', '本行賣出：': '19.79'}, {'幣別：': '泰幣 (THB)', '本行買入：': '0.819', '本行賣出：': '1.009'}, {'幣別：': '菲國比索 (PHP)', '本行買入：': '0.5234', '本行賣出：': '0.6564'}, {'幣別：': '印尼幣 (IDR)', '本行買入：': '0.00178', '本行賣出：': '0.00248'}, {'幣別：': '歐元 (EUR)', '本行買入：': '32.84', '本行賣出：': '34.18'}, {'幣別：': '韓元 (KRW)', '本行買入：': '0.023', '本行賣出：': '0.0269'}, {'幣別：': '越南盾 (VND)', '本行買入：': '0.00091', '本行賣出：': '0.00141'}, {'幣別：': '馬來幣 (MYR)', '本行買入：': '5.867', '本行賣出：': '7.492'}, {'幣別：': '人民幣 (CNY)', '本行買入：': '4.113', '本行賣出：': '4.275'}]\n"
     ]
    }
   ],
   "source": [
    "print(list)"
   ]
  },
  {
   "cell_type": "code",
   "execution_count": 28,
   "metadata": {},
   "outputs": [
    {
     "name": "stdout",
     "output_type": "stream",
     "text": [
      "幣別：      美金 (USD)\n",
      "本行買入：       29.38\n",
      "本行賣出：       30.05\n",
      "dtype: object\n",
      "幣別：      港幣 (HKD)\n",
      "本行買入：       3.686\n",
      "本行賣出：        3.89\n",
      "dtype: object\n",
      "幣別：      英鎊 (GBP)\n",
      "本行買入：       36.57\n",
      "本行賣出：       38.69\n",
      "dtype: object\n",
      "幣別：      澳幣 (AUD)\n",
      "本行買入：       20.42\n",
      "本行賣出：        21.2\n",
      "dtype: object\n",
      "幣別：      加拿大幣 (CAD)\n",
      "本行買入：          21.7\n",
      "本行賣出：         22.61\n",
      "dtype: object\n",
      "幣別：      新加坡幣 (SGD)\n",
      "本行買入：         20.81\n",
      "本行賣出：         21.72\n",
      "dtype: object\n",
      "幣別：      瑞士法郎 (CHF)\n",
      "本行買入：         30.12\n",
      "本行賣出：         31.32\n",
      "dtype: object\n",
      "幣別：      日圓 (JPY)\n",
      "本行買入：      0.2627\n",
      "本行賣出：      0.2755\n",
      "dtype: object\n",
      "幣別：      南非幣 (ZAR)\n",
      "本行買入：            -\n",
      "本行賣出：            -\n",
      "dtype: object\n",
      "幣別：      瑞典幣 (SEK)\n",
      "本行買入：         2.85\n",
      "本行賣出：         3.37\n",
      "dtype: object\n",
      "幣別：      紐元 (NZD)\n",
      "本行買入：       18.94\n",
      "本行賣出：       19.79\n",
      "dtype: object\n",
      "幣別：      泰幣 (THB)\n",
      "本行買入：       0.819\n",
      "本行賣出：       1.009\n",
      "dtype: object\n",
      "幣別：      菲國比索 (PHP)\n",
      "本行買入：        0.5234\n",
      "本行賣出：        0.6564\n",
      "dtype: object\n",
      "幣別：      印尼幣 (IDR)\n",
      "本行買入：      0.00178\n",
      "本行賣出：      0.00248\n",
      "dtype: object\n",
      "幣別：      歐元 (EUR)\n",
      "本行買入：       32.84\n",
      "本行賣出：       34.18\n",
      "dtype: object\n",
      "幣別：      韓元 (KRW)\n",
      "本行買入：       0.023\n",
      "本行賣出：      0.0269\n",
      "dtype: object\n",
      "幣別：      越南盾 (VND)\n",
      "本行買入：      0.00091\n",
      "本行賣出：      0.00141\n",
      "dtype: object\n",
      "幣別：      馬來幣 (MYR)\n",
      "本行買入：        5.867\n",
      "本行賣出：        7.492\n",
      "dtype: object\n",
      "幣別：      人民幣 (CNY)\n",
      "本行買入：        4.113\n",
      "本行賣出：        4.275\n",
      "dtype: object\n"
     ]
    }
   ],
   "source": [
    "import pandas as pd\n",
    "for i in range(len(list)):\n",
    "    dict=list[i]\n",
    "    select = pd.Series(dict, index = dict.keys())  \n",
    "    print(select)"
   ]
  },
  {
   "cell_type": "code",
   "execution_count": null,
   "metadata": {},
   "outputs": [],
   "source": []
  },
  {
   "cell_type": "code",
   "execution_count": null,
   "metadata": {},
   "outputs": [],
   "source": []
  }
 ],
 "metadata": {
  "kernelspec": {
   "display_name": "Python 3",
   "language": "python",
   "name": "python3"
  },
  "language_info": {
   "codemirror_mode": {
    "name": "ipython",
    "version": 3
   },
   "file_extension": ".py",
   "mimetype": "text/x-python",
   "name": "python",
   "nbconvert_exporter": "python",
   "pygments_lexer": "ipython3",
   "version": "3.7.4"
  }
 },
 "nbformat": 4,
 "nbformat_minor": 2
}
